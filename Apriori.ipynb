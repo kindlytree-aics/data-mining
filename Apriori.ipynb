{
 "cells": [
  {
   "cell_type": "markdown",
   "metadata": {},
   "source": [
    "Reference:\n",
    "    - https://zhuanlan.zhihu.com/p/71538840"
   ]
  },
  {
   "cell_type": "markdown",
   "metadata": {},
   "source": [
    "先验算法（Apriori Algorithm）是关联规则学习的经典算法之一，其中几个重要的概念\n",
    "    - 频繁项集(Frequent itemsets)：{葡萄酒, 尿布, 豆奶} 是一个例子\n",
    "    - 关联规则(association rules)：尿布 -> 葡萄酒 就是一个关联规则。\n",
    "    - itemset支持度(Support,occurrence frequency of an itemset): 数据集中包含该项集的记录所占的比例(minimum support threshold, frequent itemset.)。\n",
    "    - association rule支持度，关联规则中的并集的itemset的支持度\n",
    "    - 可信度（association rule数/关联规则中的并集的itemset出现频度）: 针对一条诸如 {尿布} -> {葡萄酒} 这样具体的关联规则来定义。这条规则的可信度被定义为支持度({尿布, 葡萄酒})/支持度({尿布})，支持度({尿布, 葡萄酒}) =3/5  ，支持度({尿布}) =4/5  ，所以 {尿布} -> {葡萄酒} 的可信度 = 0.6/0.8 = 0.75。支持度和可信度是用来量化关联分析是否成功的一个方法。"
   ]
  },
  {
   "cell_type": "code",
   "execution_count": null,
   "metadata": {},
   "outputs": [],
   "source": []
  }
 ],
 "metadata": {
  "language_info": {
   "name": "python"
  },
  "orig_nbformat": 4
 },
 "nbformat": 4,
 "nbformat_minor": 2
}
